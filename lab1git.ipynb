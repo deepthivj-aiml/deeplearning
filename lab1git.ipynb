{
 "cells": [
  {
   "cell_type": "code",
   "execution_count": 2,
   "metadata": {},
   "outputs": [
    {
     "name": "stdout",
     "output_type": "stream",
     "text": [
      "The South American names anacauchoa and anacaona were suggested in an account by Peter Martyr d'Anghiera, but the idea of a South American origin was questioned by Henry Walter Bates who, in his travels in South America, failed to find any similar name in use. The word anaconda is derived from the name of a snake from Ceylon (Sri Lanka) that John Ray described in Latin in his Synopsis Methodica Animalium (1693) as serpens indicus bubalinus anacandaia zeylonibus, ides bubalorum aliorumque jumentorum membra conterens.[2] Ray used a catalogue of snakes from the Leyden museum supplied by Dr. Tancred Robinson, but the description of its habit was based on Andreas Cleyer who in 1684 described a gigantic snake that crushed large animals by coiling around their bodies and crushing their bones.[3] Henry Yule in his Hobson-Jobson notes that the word became more popular due to a piece of fiction published in 1768 in the Scots Magazine by a certain R. Edwin. Edwin described a 'tiger' being crushed to death by an anaconda, when there actually never were any tigers in Sri Lanka.[a] Yule and Frank Wall noted that the snake was in fact a python and suggested a Tamil origin anai-kondra meaning elephant killer.[5] A Sinhalese origin was also suggested by Donald Ferguson who pointed out that the word Henakandaya (hena lightning/large and kanda stem/trunk) was used in Sri Lanka for the small whip snake (Ahaetulla pulverulenta)[6] and somehow got misapplied to the python before myths were created.[7][8][9]\n"
     ]
    }
   ],
   "source": [
    "x=\"The South American names anacauchoa and anacaona were suggested in an account by Peter Martyr d'Anghiera, but the idea of a South American origin was questioned by Henry Walter Bates who crushed large animals by coiling around their bodies and crushing their bones.[3] Henry Yule in his Hobson-Jobson notes that the word became more popular due to a piece of fiction published in 1768 in the Scots Magazine by a certain R. Edwin. Edwin described a 'tiger' being crushed to death by an anaconda, when there actually never were any tigers in Sri Lanka.[a] Yule and Frank Wall noted that the snake was in fact a python and suggested a Tamil origin anai-kondra meaning elephant killer.[5] A Sinhalese origin was also suggested by Donald Ferguson who pointed out that the word Henakandaya (hena lightning/large and kanda stem/trunk) was used in Sri Lanka for the small whip snake (Ahaetulla pulverulenta)[6] and somehow got misapplied to the python before myths were created.[7][8][9]\"\n",
    "print(x)"
   ]
  },
  {
   "cell_type": "code",
   "execution_count": 3,
   "metadata": {},
   "outputs": [
    {
     "ename": "SyntaxError",
     "evalue": "EOF while scanning triple-quoted string literal (<ipython-input-3-23167bbf8155>, line 2)",
     "output_type": "error",
     "traceback": [
      "\u001b[1;36m  File \u001b[1;32m\"<ipython-input-3-23167bbf8155>\"\u001b[1;36m, line \u001b[1;32m2\u001b[0m\n\u001b[1;33m    print(x)\u001b[0m\n\u001b[1;37m            \n^\u001b[0m\n\u001b[1;31mSyntaxError\u001b[0m\u001b[1;31m:\u001b[0m EOF while scanning triple-quoted string literal\n"
     ]
    }
   ],
   "source": [
    "x='''The South American names anacauchoa and anacaona were suggested in an account by Peter Martyr d'Anghiera, but the idea of a South American origin was questioned by Henry Walter Bates who, in his travels in South America, failed to find any similar name in use. The word anaconda is derived from the name of a snake from Ceylon (Sri Lanka) that John Ray described in Latin in his Synopsis Methodica Animalium (1693) as serpens indicus bubalinus anacandaia zeylonibus, ides bubalorum aliorumque jumentorum membra conterens.[2] Ray used a catalogue of snakes from the Leyden museum supplied by Dr. Tancred Robinson, but the description of its habit was based on Andreas Cleyer who in 1684 described a gigantic snake that crushed large animals by coiling around their bodies and crushing their bones.[3] Henry Yule in his Hobson-Jobson notes that the word became more popular due to a piece of fiction published in 1768 in the Scots Magazine by a certain R. Edwin. Edwin described a 'tiger' being crushed to death by an anaconda, when there actually never were any tigers in Sri Lanka.[a] Yule and Frank Wall noted that the snake was in fact a python and suggested a Tamil origin anai-kondra meaning elephant killer.[5] A Sinhalese origin was also suggested by Donald Ferguson who pointed out that the word Henakandaya (hena lightning/large and kanda stem/trunk) was used in Sri Lanka for the small whip snake (Ahaetulla pulverulenta)[6] and somehow got misapplied to the python before myths were created.[7][8][9]'''\n",
    "print(x)"
   ]
  },
  {
   "cell_type": "code",
   "execution_count": 4,
   "metadata": {},
   "outputs": [
    {
     "name": "stdout",
     "output_type": "stream",
     "text": [
      "The South American names anacauchoa and anacaona were suggested in an account by Peter Martyr d'Anghiera, but the idea of a South American origin was questioned by Henry Walter Bates who, in his travels in South America, failed to find any similar name in use. The word anaconda is derived from the name of a snake from Ceylon (Sri Lanka) that John Ray described in Latin in his Synopsis Methodica Animalium (1693) as serpens indicus bubalinus anacandaia zeylonibus, ides bubalorum aliorumque jumentorum membra conterens.[2] Ray used a catalogue of snakes from the Leyden museum supplied by Dr. Tancred Robinson, but the description of its habit was based on Andreas Cleyer who in 1684 described a gigantic snake that crushed large animals by coiling around their bodies and crushing their bones.[3] Henry Yule in his Hobson-Jobson notes that the word became more popular due to a piece of fiction published in 1768 in the Scots Magazine by a certain R. Edwin. Edwin described a 'tiger' being crushed to death by an anaconda, when there actually never were any tigers in Sri Lanka.[a] Yule and Frank Wall noted that the snake was in fact a python and suggested a Tamil origin anai-kondra meaning elephant killer.[5] A Sinhalese origin was also suggested by Donald Ferguson who pointed out that the word Henakandaya (hena lightning/large and kanda stem/trunk) was used in Sri Lanka for the small whip snake (Ahaetulla pulverulenta)[6] and somehow got misapplied to the python before myths were created.[7][8][9]\n"
     ]
    }
   ],
   "source": [
    "x='''The South American names anacauchoa and anacaona were suggested in an account by Peter Martyr d'Anghiera, but the idea of a South American origin was questioned by Henry Walter Bates who, in his travels in South America, failed to find any similar name in use. The word anaconda is derived from the name of a snake from Ceylon (Sri Lanka) that John Ray described in Latin in his Synopsis Methodica Animalium (1693) as serpens indicus bubalinus anacandaia zeylonibus, ides bubalorum aliorumque jumentorum membra conterens.[2] Ray used a catalogue of snakes from the Leyden museum supplied by Dr. Tancred Robinson, but the description of its habit was based on Andreas Cleyer who in 1684 described a gigantic snake that crushed large animals by coiling around their bodies and crushing their bones.[3] Henry Yule in his Hobson-Jobson notes that the word became more popular due to a piece of fiction published in 1768 in the Scots Magazine by a certain R. Edwin. Edwin described a 'tiger' being crushed to death by an anaconda, when there actually never were any tigers in Sri Lanka.[a] Yule and Frank Wall noted that the snake was in fact a python and suggested a Tamil origin anai-kondra meaning elephant killer.[5] A Sinhalese origin was also suggested by Donald Ferguson who pointed out that the word Henakandaya (hena lightning/large and kanda stem/trunk) was used in Sri Lanka for the small whip snake (Ahaetulla pulverulenta)[6] and somehow got misapplied to the python before myths were created.[7][8][9]'''\n",
    "print(x)"
   ]
  },
  {
   "cell_type": "code",
   "execution_count": 6,
   "metadata": {},
   "outputs": [
    {
     "ename": "SyntaxError",
     "evalue": "invalid syntax (<ipython-input-6-fff3f439a0e8>, line 1)",
     "output_type": "error",
     "traceback": [
      "\u001b[1;36m  File \u001b[1;32m\"<ipython-input-6-fff3f439a0e8>\"\u001b[1;36m, line \u001b[1;32m1\u001b[0m\n\u001b[1;33m    x='The South American names anacauchoa and anacaona were suggested in an account by Peter Martyr dAnghiera, but the idea of a South American origin was questioned by Henry Walter Bates who, in his travels in South America, failed to find any similar name in use. The word anaconda is derived from the name of a snake from Ceylon (Sri Lanka) that John Ray described in Latin in his Synopsis Methodica Animalium (1693) as serpens indicus bubalinus anacandaia zeylonibus, ides bubalorum aliorumque jumentorum membra conterens.[2] Ray used a catalogue of snakes from the Leyden museum supplied by Dr. Tancred Robinson, but the description of its habit was based on Andreas Cleyer who in 1684 described a gigantic snake that crushed large animals by coiling around their bodies and crushing their bones.[3] Henry Yule in his Hobson-Jobson notes that the word became more popular due to a piece of fiction published in 1768 in the Scots Magazine by a certain R. Edwin. Edwin described a 'tiger' being crushed to death by an anaconda, when there actually never were any tigers in Sri Lanka.[a] Yule and Frank Wall noted that the snake was in fact a python and suggested a Tamil origin anai-kondra meaning elephant killer.[5] A Sinhalese origin was also suggested by Donald Ferguson who pointed out that the word Henakandaya (hena lightning/large and kanda stem/trunk) was used in Sri Lanka for the small whip snake (Ahaetulla pulverulenta)[6] and somehow got misapplied to the python before myths were created.[7][8][9]'\u001b[0m\n\u001b[1;37m                                                                                                                                                                                                                                                                                                                                                                                                                                                                                                                                                                                                                                                                                                                                                                                                                                                                                                                                                                                                                              ^\u001b[0m\n\u001b[1;31mSyntaxError\u001b[0m\u001b[1;31m:\u001b[0m invalid syntax\n"
     ]
    }
   ],
   "source": [
    "x='The South American names anacauchoa and anacaona were suggested in an account by Peter Martyr dAnghiera, but the idea of a South American origin was questioned by Henry Walter Bates who, in his travels in South America, failed to find any similar name in use. The word anaconda is derived from the name of a snake from Ceylon (Sri Lanka) that John Ray described in Latin in his Synopsis Methodica Animalium (1693) as serpens indicus bubalinus anacandaia zeylonibus, ides bubalorum aliorumque jumentorum membra conterens.[2] Ray used a catalogue of snakes from the Leyden museum supplied by Dr. Tancred Robinson, but the description of its habit was based on Andreas Cleyer who in 1684 described a gigantic snake that crushed large animals by coiling around their bodies and crushing their bones.[3] Henry Yule in his Hobson-Jobson notes that the word became more popular due to a piece of fiction published in 1768 in the Scots Magazine by a certain R. Edwin. Edwin described a 'tiger' being crushed to death by an anaconda, when there actually never were any tigers in Sri Lanka.[a] Yule and Frank Wall noted that the snake was in fact a python and suggested a Tamil origin anai-kondra meaning elephant killer.[5] A Sinhalese origin was also suggested by Donald Ferguson who pointed out that the word Henakandaya (hena lightning/large and kanda stem/trunk) was used in Sri Lanka for the small whip snake (Ahaetulla pulverulenta)[6] and somehow got misapplied to the python before myths were created.[7][8][9]'\n",
    "print(x)"
   ]
  },
  {
   "cell_type": "code",
   "execution_count": 7,
   "metadata": {},
   "outputs": [
    {
     "ename": "SyntaxError",
     "evalue": "invalid syntax (<ipython-input-7-fff3f439a0e8>, line 1)",
     "output_type": "error",
     "traceback": [
      "\u001b[1;36m  File \u001b[1;32m\"<ipython-input-7-fff3f439a0e8>\"\u001b[1;36m, line \u001b[1;32m1\u001b[0m\n\u001b[1;33m    x='The South American names anacauchoa and anacaona were suggested in an account by Peter Martyr dAnghiera, but the idea of a South American origin was questioned by Henry Walter Bates who, in his travels in South America, failed to find any similar name in use. The word anaconda is derived from the name of a snake from Ceylon (Sri Lanka) that John Ray described in Latin in his Synopsis Methodica Animalium (1693) as serpens indicus bubalinus anacandaia zeylonibus, ides bubalorum aliorumque jumentorum membra conterens.[2] Ray used a catalogue of snakes from the Leyden museum supplied by Dr. Tancred Robinson, but the description of its habit was based on Andreas Cleyer who in 1684 described a gigantic snake that crushed large animals by coiling around their bodies and crushing their bones.[3] Henry Yule in his Hobson-Jobson notes that the word became more popular due to a piece of fiction published in 1768 in the Scots Magazine by a certain R. Edwin. Edwin described a 'tiger' being crushed to death by an anaconda, when there actually never were any tigers in Sri Lanka.[a] Yule and Frank Wall noted that the snake was in fact a python and suggested a Tamil origin anai-kondra meaning elephant killer.[5] A Sinhalese origin was also suggested by Donald Ferguson who pointed out that the word Henakandaya (hena lightning/large and kanda stem/trunk) was used in Sri Lanka for the small whip snake (Ahaetulla pulverulenta)[6] and somehow got misapplied to the python before myths were created.[7][8][9]'\u001b[0m\n\u001b[1;37m                                                                                                                                                                                                                                                                                                                                                                                                                                                                                                                                                                                                                                                                                                                                                                                                                                                                                                                                                                                                                              ^\u001b[0m\n\u001b[1;31mSyntaxError\u001b[0m\u001b[1;31m:\u001b[0m invalid syntax\n"
     ]
    }
   ],
   "source": [
    "x='The South American names anacauchoa and anacaona were suggested in an account by Peter Martyr dAnghiera, but the idea of a South American origin was questioned by Henry Walter Bates who, in his travels in South America, failed to find any similar name in use. The word anaconda is derived from the name of a snake from Ceylon (Sri Lanka) that John Ray described in Latin in his Synopsis Methodica Animalium (1693) as serpens indicus bubalinus anacandaia zeylonibus, ides bubalorum aliorumque jumentorum membra conterens.[2] Ray used a catalogue of snakes from the Leyden museum supplied by Dr. Tancred Robinson, but the description of its habit was based on Andreas Cleyer who in 1684 described a gigantic snake that crushed large animals by coiling around their bodies and crushing their bones.[3] Henry Yule in his Hobson-Jobson notes that the word became more popular due to a piece of fiction published in 1768 in the Scots Magazine by a certain R. Edwin. Edwin described a 'tiger' being crushed to death by an anaconda, when there actually never were any tigers in Sri Lanka.[a] Yule and Frank Wall noted that the snake was in fact a python and suggested a Tamil origin anai-kondra meaning elephant killer.[5] A Sinhalese origin was also suggested by Donald Ferguson who pointed out that the word Henakandaya (hena lightning/large and kanda stem/trunk) was used in Sri Lanka for the small whip snake (Ahaetulla pulverulenta)[6] and somehow got misapplied to the python before myths were created.[7][8][9]'\n",
    "print(x)"
   ]
  },
  {
   "cell_type": "code",
   "execution_count": 8,
   "metadata": {},
   "outputs": [
    {
     "name": "stdout",
     "output_type": "stream",
     "text": [
      "it is a test document and first lab excercise\n"
     ]
    }
   ],
   "source": [
    "x=\"it is a test document and first lab excercise\"\n",
    "print(x)"
   ]
  },
  {
   "cell_type": "code",
   "execution_count": 9,
   "metadata": {},
   "outputs": [
    {
     "name": "stdout",
     "output_type": "stream",
     "text": [
      "it is a test document and first lab excercise\n"
     ]
    }
   ],
   "source": [
    "x='''it is a test document and first lab excercise'''\n",
    "print(x)"
   ]
  },
  {
   "cell_type": "code",
   "execution_count": 10,
   "metadata": {},
   "outputs": [
    {
     "name": "stdout",
     "output_type": "stream",
     "text": [
      "it is a test document and first lab excercise\n"
     ]
    }
   ],
   "source": [
    "x='it is a test document and first lab excercise'\n",
    "print(x)"
   ]
  },
  {
   "cell_type": "code",
   "execution_count": 14,
   "metadata": {},
   "outputs": [
    {
     "ename": "SyntaxError",
     "evalue": "invalid syntax (<ipython-input-14-2141a7559b98>, line 1)",
     "output_type": "error",
     "traceback": [
      "\u001b[1;36m  File \u001b[1;32m\"<ipython-input-14-2141a7559b98>\"\u001b[1;36m, line \u001b[1;32m1\u001b[0m\n\u001b[1;33m    x='The South American names anacauchoa and anacaona were suggested in an account by Peter Martyr dAnghiera, but the idea of a South American origin was questioned by Henry Walter Bates who, in his travels in South America, failed to find any similar name in use. The word anaconda is derived from the name of a snake from Ceylon (Sri Lanka) that John Ray described in Latin in his Synopsis Methodica Animalium (1693) as serpens indicus bubalinus anacandaia zeylonibus, ides bubalorum aliorumque jumentorum membra conterens.[2] Ray used a catalogue of snakes from the Leyden museum supplied by Dr. Tancred Robinson, but the description of its habit was based on Andreas Cleyer who in 1684 described a gigantic snake that crushed large animals by coiling around their bodies and crushing their bones. Henry Yule in his Hobson-Jobson notes that the word became more popular due to a piece of fiction published in 1768 in the Scots Magazine by a certain R. Edwin. Edwin described a 'tiger' being crushed to death by an anaconda, when there actually never were any tigers in Sri Lanka.[a] Yule and Frank Wall noted that the snake was in fact a python and suggested a Tamil origin anai-kondra meaning elephant killer.[5] A Sinhalese origin was also suggested by Donald Ferguson who pointed out that the word Henakandaya (hena lightning/large and kanda stem/trunk) was used in Sri Lanka for the small whip snake [6] and somehow got misapplied to the python before myths were created'\u001b[0m\n\u001b[1;37m                                                                                                                                                                                                                                                                                                                                                                                                                                                                                                                                                                                                                                                                                                                                                                                                                                                                                                                                                                                                                           ^\u001b[0m\n\u001b[1;31mSyntaxError\u001b[0m\u001b[1;31m:\u001b[0m invalid syntax\n"
     ]
    }
   ],
   "source": [
    "x='The South American names anacauchoa and anacaona were suggested in an account by Peter Martyr dAnghiera, but the idea of a South American origin was questioned by Henry Walter Bates who, in his travels in South America, failed to find any similar name in use. The word anaconda is derived from the name of a snake from Ceylon (Sri Lanka) that John Ray described in Latin in his Synopsis Methodica Animalium (1693) as serpens indicus bubalinus anacandaia zeylonibus, ides bubalorum aliorumque jumentorum membra conterens.[2] Ray used a catalogue of snakes from the Leyden museum supplied by Dr. Tancred Robinson, but the description of its habit was based on Andreas Cleyer who in 1684 described a gigantic snake that crushed large animals by coiling around their bodies and crushing their bones. Henry Yule in his Hobson-Jobson notes that the word became more popular due to a piece of fiction published in 1768 in the Scots Magazine by a certain R. Edwin. Edwin described a 'tiger' being crushed to death by an anaconda, when there actually never were any tigers in Sri Lanka.[a] Yule and Frank Wall noted that the snake was in fact a python and suggested a Tamil origin anai-kondra meaning elephant killer.[5] A Sinhalese origin was also suggested by Donald Ferguson who pointed out that the word Henakandaya (hena lightning/large and kanda stem/trunk) was used in Sri Lanka for the small whip snake [6] and somehow got misapplied to the python before myths were created'\n",
    "print(x)"
   ]
  },
  {
   "cell_type": "code",
   "execution_count": 21,
   "metadata": {},
   "outputs": [
    {
     "name": "stdout",
     "output_type": "stream",
     "text": [
      "['ernakulam', 'kottayam', 'puthenvelikkara', 'pala']\n",
      "['ernakulam', 'kottayam', 'puthenvelikkara', 'pala', 'trissure', 'tuskeny']\n"
     ]
    }
   ],
   "source": [
    "list=['ernakulam','kottayam','puthenvelikkara','pala','trissure']\n",
    "print(list[0:-1])\n",
    "list.append('tuskeny')\n",
    "print(list)"
   ]
  },
  {
   "cell_type": "code",
   "execution_count": 3,
   "metadata": {},
   "outputs": [
    {
     "name": "stdout",
     "output_type": "stream",
     "text": [
      "{'Mane': 'Football', 'Kholi': 'Cricket', 'Marry k': 'Boxing', 'Sania': 'Batminton', 'Novak': 'Tennis', 'Baylor': 'Basketball'}\n"
     ]
    }
   ],
   "source": [
    "dict={\n",
    "    \"Mane\":'Football',\n",
    "    'Kholi':'Cricket',\n",
    "    'Marry k':'Boxing',\n",
    "    'Sania':'Batminton',\n",
    "    'Novak':'Tennis',\n",
    "    'Baylor':'Basketball'\n",
    "}\n",
    "print(dict)"
   ]
  },
  {
   "cell_type": "code",
   "execution_count": 2,
   "metadata": {},
   "outputs": [
    {
     "name": "stdout",
     "output_type": "stream",
     "text": [
      "tup1[0]:  physics\n",
      "tup2[1:5]:  (2, 3, 4, 5)\n"
     ]
    }
   ],
   "source": [
    "tup1 = ('physics', 'chemistry', 1997, 2000);\n",
    "tup2 = (1, 2, 3, 4, 5, 6, 7 );\n",
    "print (\"tup1[0]: \", tup1[0]);\n",
    "print (\"tup2[1:5]: \", tup2[1:5]);"
   ]
  },
  {
   "cell_type": "code",
   "execution_count": 4,
   "metadata": {},
   "outputs": [
    {
     "name": "stdout",
     "output_type": "stream",
     "text": [
      "{'Kholi': 'Cricket', 'Marry k': 'Boxing', 'Sania': 'Batminton', 'Novak': 'Tennis', 'Baylor': 'Basketball'}\n"
     ]
    }
   ],
   "source": [
    "del dict['Mane']\n",
    "print(dict)"
   ]
  },
  {
   "cell_type": "code",
   "execution_count": 7,
   "metadata": {},
   "outputs": [
    {
     "name": "stdout",
     "output_type": "stream",
     "text": [
      "{'Kholi': 'Cricket', 'Marry k': 'Boxing', 'Sania': 'Batminton', 'Novak': 'Tennis', 'Baylor': 'Basketball', 'Mane': 'football'}\n"
     ]
    }
   ],
   "source": [
    "dict['Mane'] = 'football'\n",
    "print(dict)"
   ]
  },
  {
   "cell_type": "code",
   "execution_count": 8,
   "metadata": {},
   "outputs": [
    {
     "name": "stdout",
     "output_type": "stream",
     "text": [
      "The South American names anacauchoa and anacaona were suggested in an account by Peter Martyr dAnghiera, but the idea of a South American origin was questioned by Henry Walter Bates who, in his travels in South America, failed to find any similar name in use. The word anaconda is derived from the name of a snake from Ceylon (Sri Lanka) that John Ray described in Latin in his Synopsis Methodica Animalium (1693) as serpens indicus bubalinus anacandaia zeylonibus, ides bubalorum aliorumque jumentorum membra conterens.[2] Ray used a catalogue of snakes from the Leyden museum supplied by Dr. Tancred Robinson, but the description of its habit was based on Andreas Cleyer who in 1684 described a gigantic snake that crushed large animals by coiling around their bodies and crushing their bones.[3] Henry Yule in his Hobson-Jobson notes that the word became more popular due to a piece of fiction published in 1768 in the Scots Magazine by a certain R. Edwin. Edwin described a 'tiger' being crushed to death by an anaconda, when there actually never were any tigers in Sri Lanka.[a] Yule and Frank Wall noted that the snake was in fact a python and suggested a Tamil origin anai-kondra meaning elephant killer.[5] A Sinhalese origin was also suggested by Donald Ferguson who pointed out that the word Henakandaya (hena lightning/large and kanda stem/trunk) was used in Sri Lanka for the small whip snake (Ahaetulla pulverulenta)[6] and somehow got misapplied to the python before myths were created.[7][8][9]\n"
     ]
    }
   ],
   "source": [
    "#Added forword slash before single quotes inside the string to avoid considering it while printing to remove the error\n",
    "x='The South American names anacauchoa and anacaona were suggested in an account by Peter Martyr dAnghiera, but the idea of a South American origin was questioned by Henry Walter Bates who, in his travels in South America, failed to find any similar name in use. The word anaconda is derived from the name of a snake from Ceylon (Sri Lanka) that John Ray described in Latin in his Synopsis Methodica Animalium (1693) as serpens indicus bubalinus anacandaia zeylonibus, ides bubalorum aliorumque jumentorum membra conterens.[2] Ray used a catalogue of snakes from the Leyden museum supplied by Dr. Tancred Robinson, but the description of its habit was based on Andreas Cleyer who in 1684 described a gigantic snake that crushed large animals by coiling around their bodies and crushing their bones.[3] Henry Yule in his Hobson-Jobson notes that the word became more popular due to a piece of fiction published in 1768 in the Scots Magazine by a certain R. Edwin. Edwin described a \\'tiger\\' being crushed to death by an anaconda, when there actually never were any tigers in Sri Lanka.[a] Yule and Frank Wall noted that the snake was in fact a python and suggested a Tamil origin anai-kondra meaning elephant killer.[5] A Sinhalese origin was also suggested by Donald Ferguson who pointed out that the word Henakandaya (hena lightning/large and kanda stem/trunk) was used in Sri Lanka for the small whip snake (Ahaetulla pulverulenta)[6] and somehow got misapplied to the python before myths were created.[7][8][9]'\n",
    "print(x)"
   ]
  },
  {
   "cell_type": "code",
   "execution_count": null,
   "metadata": {},
   "outputs": [],
   "source": []
  }
 ],
 "metadata": {
  "kernelspec": {
   "display_name": "Python 3",
   "language": "python",
   "name": "python3"
  },
  "language_info": {
   "codemirror_mode": {
    "name": "ipython",
    "version": 3
   },
   "file_extension": ".py",
   "mimetype": "text/x-python",
   "name": "python",
   "nbconvert_exporter": "python",
   "pygments_lexer": "ipython3",
   "version": "3.7.4"
  }
 },
 "nbformat": 4,
 "nbformat_minor": 2
}
